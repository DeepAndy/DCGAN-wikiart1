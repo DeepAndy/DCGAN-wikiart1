{
 "cells": [
  {
   "cell_type": "code",
   "execution_count": null,
   "metadata": {},
   "outputs": [],
   "source": [
    "import codecs\n",
    "import urllib, re\n",
    "import requests\n",
    "import urllib.request\n",
    "import datetime\n",
    "import lxml.html\n",
    "import os\n",
    "import time\n",
    "from bs4 import BeautifulSoup\n",
    "\n",
    "genre = \"abstract\"\n",
    "style =\"genre\"\n",
    "    \n",
    "hard =\"/Volumes/sinanatra/Programming/Wiki_art_dataset/\" + genre + \"/\"\n",
    "\n",
    "if not os.path.exists(hard):\n",
    "    os.makedirs(hard)\n",
    "\n",
    "#xbmc.executebuiltin(\"Container.SetViewMode(%s)\" % ADDON.getSetting(viewType) )\n",
    "\n",
    "\n",
    "url = \"https://www.wikiart.org/en/paintings-by-\"+style+\"/\"+genre\n",
    "print(url)\n",
    "\n",
    "html = lxml.html.parse(urllib.request.urlopen(url) )\n",
    "links = [i.strip() for i in html.xpath(\"//ul[contains(@class, 'artists-group-list')]/li/a/@href\")]\n",
    "\n",
    "num = 0\n",
    "\n",
    "for link in links:\n",
    "    #print (link)\n",
    "    split = \"=\"\n",
    "    \n",
    "    name = link[link.index(split) + len(split):]\n",
    "    final_link = \"https://www.wikiart.org\" + link\n",
    "\n",
    "    img = urllib.request.urlopen(final_link).read()\n",
    "    \n",
    "    try:\n",
    "        result = re.search('&quot;https://uploads(.*).wikiart.org/(.*).jpg', str(img) )\n",
    "        result1 = re.search('&quot;https://uploads(.*).wikiart.org/(.*).JPG', str(img) )\n",
    "\n",
    "        raw = result.group()\n",
    "        raw1 = result.group()\n",
    "\n",
    "        clean = raw.split(\"&quot;\")\n",
    "        clean1 = raw1.split(\"&quot;\")\n",
    "\n",
    "        for i in clean or i in clean1:\n",
    "            try:\n",
    "                if len(i) < 16:\n",
    "                    continue\n",
    "                else:\n",
    "                    #print(i)\n",
    "                    save_img = urllib.request.urlretrieve(i,hard+genre+\"_\"+name+\"_\"+str(num)+\".jpg\")\n",
    "                    num +=1\n",
    "            except:\n",
    "                continue\n",
    "    except:\n",
    "        continue\n",
    "        \n",
    "    \n",
    "print(\"That's All Folks!\")"
   ]
  },
  {
   "cell_type": "code",
   "execution_count": 13,
   "metadata": {},
   "outputs": [
    {
     "name": "stdout",
     "output_type": "stream",
     "text": [
      "cannot identify image file '/Volumes/sinanatra/Programming/Wiki_art_dataset//test/.DS_Store'\n"
     ]
    }
   ],
   "source": [
    "from PIL import Image\n",
    "import os, sys\n",
    "\n",
    "path = \"/Volumes/sinanatra/Programming/Wiki_art_dataset/\"+\"/test/\"\n",
    "\n",
    "dirs = os.listdir( path )\n",
    "\n",
    "\n",
    "\n",
    "for item in dirs:\n",
    "    try:\n",
    "        if os.path.isfile(path+item):\n",
    "            im = Image.open(path+item)\n",
    "            longer_side = max(im.size)\n",
    "\n",
    "            horizontal_padding = (longer_side - im.size[0]) / 2\n",
    "            vertical_padding = (longer_side - im.size[1]) / 2\n",
    "            f, e = os.path.splitext(path+item)\n",
    "            imResize = im.crop(\n",
    "            (\n",
    "                -horizontal_padding,\n",
    "                -vertical_padding,\n",
    "                im.size[0] + horizontal_padding,\n",
    "                im.size[1] + vertical_padding\n",
    "            )\n",
    "            )\n",
    "            imResize.save(f + ' resized.jpg', 'JPEG', quality=90)\n",
    "    except Exception as e:\n",
    "        print(e)"
   ]
  },
  {
   "cell_type": "code",
   "execution_count": 10,
   "metadata": {},
   "outputs": [
    {
     "ename": "TypeError",
     "evalue": "'NoneType' object is not callable",
     "output_type": "error",
     "traceback": [
      "\u001b[0;31m---------------------------------------------------------------------------\u001b[0m",
      "\u001b[0;31mTypeError\u001b[0m                                 Traceback (most recent call last)",
      "\u001b[0;32m<ipython-input-10-5b1f13fc68a7>\u001b[0m in \u001b[0;36m<module>\u001b[0;34m()\u001b[0m\n\u001b[1;32m     13\u001b[0m     )\n\u001b[1;32m     14\u001b[0m )\n\u001b[0;32m---> 15\u001b[0;31m \u001b[0mimg5\u001b[0m\u001b[0;34m.\u001b[0m\u001b[0mshow\u001b[0m\u001b[0;34m(\u001b[0m\u001b[0;34m)\u001b[0m\u001b[0;34m(\u001b[0m\u001b[0;34m\"img5.jpg\"\u001b[0m\u001b[0;34m)\u001b[0m\u001b[0;34m\u001b[0m\u001b[0m\n\u001b[0m",
      "\u001b[0;31mTypeError\u001b[0m: 'NoneType' object is not callable"
     ]
    }
   ],
   "source": [
    "from PIL import Image\n",
    "img = Image.open(\"/Volumes/sinanatra/Programming/Wiki_art_dataset/\"+\"/test/\"+\"4.jpg\")\n",
    "\n",
    "longer_side = max(img.size)\n",
    "horizontal_padding = (longer_side - img.size[0]) / 2\n",
    "vertical_padding = (longer_side - img.size[1]) / 2\n",
    "img5 = img.crop(\n",
    "    (\n",
    "        -horizontal_padding,\n",
    "        -vertical_padding,\n",
    "        img.size[0] + horizontal_padding,\n",
    "        img.size[1] + vertical_padding\n",
    "    )\n",
    ")\n",
    "img5.show()(\"img5.jpg\")"
   ]
  },
  {
   "cell_type": "code",
   "execution_count": null,
   "metadata": {},
   "outputs": [],
   "source": []
  }
 ],
 "metadata": {
  "anaconda-cloud": {},
  "kernelspec": {
   "display_name": "python3env",
   "language": "python",
   "name": "python3env"
  },
  "language_info": {
   "codemirror_mode": {
    "name": "ipython",
    "version": 3
   },
   "file_extension": ".py",
   "mimetype": "text/x-python",
   "name": "python",
   "nbconvert_exporter": "python",
   "pygments_lexer": "ipython3",
   "version": "3.6.4"
  }
 },
 "nbformat": 4,
 "nbformat_minor": 2
}
