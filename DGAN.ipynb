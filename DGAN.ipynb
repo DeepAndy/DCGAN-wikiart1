{
  "nbformat": 4,
  "nbformat_minor": 0,
  "metadata": {
    "colab": {
      "name": "DGAN",
      "version": "0.3.2",
      "views": {},
      "default_view": {},
      "provenance": [],
      "collapsed_sections": [
        "Qu0fuzQ4Sh9d"
      ]
    },
    "kernelspec": {
      "name": "python2",
      "display_name": "Python 2"
    },
    "accelerator": "GPU"
  },
  "cells": [
    {
      "metadata": {
        "id": "zmtd_DvDErgZ",
        "colab_type": "text"
      },
      "cell_type": "markdown",
      "source": [
        "# Setup"
      ]
    },
    {
      "metadata": {
        "id": "k3S5q576kbgz",
        "colab_type": "text"
      },
      "cell_type": "markdown",
      "source": [
        "Check if GPU is enabled"
      ]
    },
    {
      "metadata": {
        "id": "gdZxqX5qkMn2",
        "colab_type": "code",
        "colab": {
          "autoexec": {
            "startup": false,
            "wait_interval": 0
          }
        }
      },
      "cell_type": "code",
      "source": [
        "import tensorflow as tf\n",
        "tf.test.gpu_device_name()"
      ],
      "execution_count": 0,
      "outputs": []
    },
    {
      "metadata": {
        "id": "CHP1ugLUbA7F",
        "colab_type": "text"
      },
      "cell_type": "markdown",
      "source": [
        "check how much memory this gpu has"
      ]
    },
    {
      "metadata": {
        "id": "PZ8_gNv14yD4",
        "colab_type": "code",
        "colab": {
          "autoexec": {
            "startup": false,
            "wait_interval": 0
          }
        }
      },
      "cell_type": "code",
      "source": [
        "!ln -sf /opt/bin/nvidia-smi /usr/bin/nvidia-smi\n",
        "!pip install gputil\n",
        "!pip install psutil\n",
        "!pip install humanize\n",
        "import psutil\n",
        "import humanize\n",
        "import os\n",
        "import GPUtil as GPU\n",
        "GPUs = GPU.getGPUs()\n",
        "# XXX: only one GPU on Colab and isn’t guaranteed\n",
        "gpu = GPUs[0]\n",
        "def printm():\n",
        " process = psutil.Process(os.getpid())\n",
        " print(\"Gen RAM Free: \" + humanize.naturalsize( psutil.virtual_memory().available ), \" I Proc size: \" + humanize.naturalsize( process.memory_info().rss))\n",
        " print(\"GPU RAM Free: {0:.0f}MB | Used: {1:.0f}MB | Util {2:3.0f}% | Total {3:.0f}MB\".format(gpu.memoryFree, gpu.memoryUsed, gpu.memoryUtil*100, gpu.memoryTotal))\n",
        "printm()"
      ],
      "execution_count": 0,
      "outputs": []
    },
    {
      "metadata": {
        "id": "sBImtdUF45iW",
        "colab_type": "text"
      },
      "cell_type": "markdown",
      "source": [
        "DON'T RUN - only to remove everything\n",
        "💀💀💀💀💀💀💀💀\n",
        "!kill -9 -1\n",
        "💀💀💀💀💀💀💀💀\n"
      ]
    },
    {
      "metadata": {
        "id": "tV4_I7Q0B9i-",
        "colab_type": "code",
        "colab": {
          "autoexec": {
            "startup": false,
            "wait_interval": 0
          }
        }
      },
      "cell_type": "code",
      "source": [
        "import os\n",
        "os.listdir('.')"
      ],
      "execution_count": 0,
      "outputs": []
    },
    {
      "metadata": {
        "id": "jRWG4VLlzD4e",
        "colab_type": "code",
        "colab": {
          "autoexec": {
            "startup": false,
            "wait_interval": 0
          }
        }
      },
      "cell_type": "code",
      "source": [
        ""
      ],
      "execution_count": 0,
      "outputs": []
    },
    {
      "metadata": {
        "id": "FoI6Ic8HmNZ2",
        "colab_type": "text"
      },
      "cell_type": "markdown",
      "source": [
        "# Install repo and import images"
      ]
    },
    {
      "metadata": {
        "id": "38qyMuE3XtP9",
        "colab_type": "text"
      },
      "cell_type": "markdown",
      "source": [
        "Lets use the repo made by carpedm20, a tensorflow implementation to Dgans"
      ]
    },
    {
      "metadata": {
        "id": "qZ49GKGLmK_S",
        "colab_type": "code",
        "colab": {
          "autoexec": {
            "startup": false,
            "wait_interval": 0
          }
        }
      },
      "cell_type": "code",
      "source": [
        "!git clone https://github.com/sinanatra/DCGAN-Art-Tensorflow.git"
      ],
      "execution_count": 0,
      "outputs": []
    },
    {
      "metadata": {
        "id": "R7_8N0XzmLF8",
        "colab_type": "code",
        "colab": {
          "autoexec": {
            "startup": false,
            "wait_interval": 0
          }
        }
      },
      "cell_type": "code",
      "source": [
        "cd DCGAN-Art-Tensorflow"
      ],
      "execution_count": 0,
      "outputs": []
    },
    {
      "metadata": {
        "id": "Ob5XE7hZwuwc",
        "colab_type": "code",
        "colab": {
          "autoexec": {
            "startup": false,
            "wait_interval": 0
          }
        }
      },
      "cell_type": "code",
      "source": [
        "# install the necessary libraries\n",
        "!pip install tqdm\n",
        "!pip install -U -q PyDrive\n",
        "!pip install googledrivedownloader"
      ],
      "execution_count": 0,
      "outputs": []
    },
    {
      "metadata": {
        "id": "nUFAWzEgUrIy",
        "colab_type": "text"
      },
      "cell_type": "markdown",
      "source": [
        "\n",
        "\n",
        "```\n",
        "# This is formatted as code\n",
        "```\n",
        "\n",
        "Import from your Google Drive your dataset -* never upload with the files.upload(), it crashes if file is too big*"
      ]
    },
    {
      "metadata": {
        "id": "z6IqbD3hfdjZ",
        "colab_type": "code",
        "colab": {
          "autoexec": {
            "startup": false,
            "wait_interval": 0
          }
        }
      },
      "cell_type": "code",
      "source": [
        "from pydrive.auth import GoogleAuth\n",
        "from pydrive.drive import GoogleDrive\n",
        "from google.colab import auth\n",
        "from oauth2client.client import GoogleCredentials\n",
        "\n",
        "# 1. Authenticate and create the PyDrive client.\n",
        "auth.authenticate_user()\n",
        "gauth = GoogleAuth()\n",
        "gauth.credentials = GoogleCredentials.get_application_default()\n",
        "drive = GoogleDrive(gauth)\n",
        "print(\"all right\")"
      ],
      "execution_count": 0,
      "outputs": []
    },
    {
      "metadata": {
        "id": "8JnlmpLxoKsD",
        "colab_type": "text"
      },
      "cell_type": "markdown",
      "source": [
        "# Import Dataset"
      ]
    },
    {
      "metadata": {
        "id": "auwW5mgYboJO",
        "colab_type": "text"
      },
      "cell_type": "markdown",
      "source": [
        "Some of the dataset i'm using, not sure they will work on other computers, just check or else upload a folder with the same img size and colors (RGB, not RGBA) to your drive. Make it a sharable link and copy the last part like this: drive.google.com/open?id=**1LWolfUnkoAwHnxmyOz3PnI1gWsQI-oUc**"
      ]
    },
    {
      "metadata": {
        "id": "YLBwMdxMW3PR",
        "colab_type": "code",
        "colab": {
          "autoexec": {
            "startup": false,
            "wait_interval": 0
          }
        }
      },
      "cell_type": "code",
      "source": [
        "#link_name = \"16PP-ayI5CoGB04nKxA_qSsH2h48qxSJN\" # Prints\n",
        "#link_name =\"1LWolfUnkoAwHnxmyOz3PnI1gWsQI-oUc\"  #BCBF\n",
        "link_name =\"1DMGmyr-SuB8ugKMafxPEYBe-4ta30aUf\" # portraits - wiki_art / if you want to use wiki_art images i have a scraper somewhere\n",
        "#link_name=\"1wDOHDKd7LFyEuicYe1MesMrkIDrC-tQ_\"\n",
        "#link_name = \"1oQ8aH64pNejs-DOxZ8Sk2onLHFEm7m-X\" CHEKPOINTS"
      ],
      "execution_count": 0,
      "outputs": []
    },
    {
      "metadata": {
        "id": "ROE0HrCCnVvh",
        "colab_type": "text"
      },
      "cell_type": "markdown",
      "source": [
        "create dirs to place dataset"
      ]
    },
    {
      "metadata": {
        "id": "H_-jyFNY58zz",
        "colab_type": "code",
        "colab": {
          "autoexec": {
            "startup": false,
            "wait_interval": 0
          }
        }
      },
      "cell_type": "code",
      "source": [
        "mkdir data"
      ],
      "execution_count": 0,
      "outputs": []
    },
    {
      "metadata": {
        "id": "yiHcgEyWfZNk",
        "colab_type": "code",
        "colab": {
          "autoexec": {
            "startup": false,
            "wait_interval": 0
          }
        }
      },
      "cell_type": "code",
      "source": [
        "mkdir data/portrait"
      ],
      "execution_count": 0,
      "outputs": []
    },
    {
      "metadata": {
        "id": "ZIGaVL0gkSXZ",
        "colab_type": "code",
        "colab": {
          "autoexec": {
            "startup": false,
            "wait_interval": 0
          }
        }
      },
      "cell_type": "code",
      "source": [
        "#rm -R data"
      ],
      "execution_count": 0,
      "outputs": []
    },
    {
      "metadata": {
        "id": "bP036Q00cVIK",
        "colab_type": "text"
      },
      "cell_type": "markdown",
      "source": [
        "import from drive and unzip the  file to *dest*"
      ]
    },
    {
      "metadata": {
        "id": "d06JZAcwcRQa",
        "colab_type": "code",
        "colab": {
          "autoexec": {
            "startup": false,
            "wait_interval": 0
          }
        }
      },
      "cell_type": "code",
      "source": [
        "dest =\"./data/portrait/\"+ link_name+\".zip\"\n"
      ],
      "execution_count": 0,
      "outputs": []
    },
    {
      "metadata": {
        "id": "S9byes1iUp0T",
        "colab_type": "code",
        "colab": {
          "autoexec": {
            "startup": false,
            "wait_interval": 0
          }
        }
      },
      "cell_type": "code",
      "source": [
        "from google_drive_downloader import GoogleDriveDownloader as gdd\n",
        "\n",
        "gdd.download_file_from_google_drive(file_id=link_name,\n",
        "                                    dest_path=dest,\n",
        "                                    unzip=True)"
      ],
      "execution_count": 0,
      "outputs": []
    },
    {
      "metadata": {
        "id": "Nl9YW79Fe5ko",
        "colab_type": "text"
      },
      "cell_type": "markdown",
      "source": [
        "# Import checkpoints from drive"
      ]
    },
    {
      "metadata": {
        "id": "dnW2nvY95tSs",
        "colab_type": "code",
        "colab": {
          "autoexec": {
            "startup": false,
            "wait_interval": 0
          }
        }
      },
      "cell_type": "code",
      "source": [
        "link1 = \"19dTjHVgIDzzIpirdPkDoZacGQ-I47W7P\" #CHEKPOINTS "
      ],
      "execution_count": 0,
      "outputs": []
    },
    {
      "metadata": {
        "id": "0sfkWm6R0rU-",
        "colab_type": "code",
        "colab": {
          "autoexec": {
            "startup": false,
            "wait_interval": 0
          }
        }
      },
      "cell_type": "code",
      "source": [
        "mkdir checkpoint"
      ],
      "execution_count": 0,
      "outputs": []
    },
    {
      "metadata": {
        "id": "DDfxMtIofZTy",
        "colab_type": "code",
        "colab": {
          "autoexec": {
            "startup": false,
            "wait_interval": 0
          }
        }
      },
      "cell_type": "code",
      "source": [
        "loc =\"./checkpoint/\"+ link1+\".zip\""
      ],
      "execution_count": 0,
      "outputs": []
    },
    {
      "metadata": {
        "id": "TZ1K4Xtd64Yv",
        "colab_type": "code",
        "colab": {
          "autoexec": {
            "startup": false,
            "wait_interval": 0
          }
        }
      },
      "cell_type": "code",
      "source": [
        "from google_drive_downloader import GoogleDriveDownloader as gdd\n",
        "\n",
        "gdd.download_file_from_google_drive(file_id=link1,\n",
        "                                    dest_path=loc,\n",
        "                                    unzip=True)"
      ],
      "execution_count": 0,
      "outputs": []
    },
    {
      "metadata": {
        "id": "oW_WrHlg6X-a",
        "colab_type": "code",
        "colab": {
          "autoexec": {
            "startup": false,
            "wait_interval": 0
          }
        }
      },
      "cell_type": "code",
      "source": [
        "import os\n",
        "os.listdir(\"./checkpoint\")"
      ],
      "execution_count": 0,
      "outputs": []
    },
    {
      "metadata": {
        "id": "RgTJnDwRzRB9",
        "colab_type": "code",
        "colab": {
          "autoexec": {
            "startup": false,
            "wait_interval": 0
          }
        }
      },
      "cell_type": "code",
      "source": [
        "rm -r ./checkpoint/1AIEx-Gqqx4FaYDf4LWRNoS630MTCii0u.zip"
      ],
      "execution_count": 0,
      "outputs": []
    },
    {
      "metadata": {
        "id": "ocKWm5bXXBjO",
        "colab_type": "code",
        "colab": {
          "autoexec": {
            "startup": false,
            "wait_interval": 0
          }
        }
      },
      "cell_type": "code",
      "source": [
        "import os\n",
        "os.listdir(\"./checkpoint\")"
      ],
      "execution_count": 0,
      "outputs": []
    },
    {
      "metadata": {
        "id": "ZfL7NeCofR_r",
        "colab_type": "text"
      },
      "cell_type": "markdown",
      "source": [
        "# Uniform images"
      ]
    },
    {
      "metadata": {
        "id": "eVvolST0hKDY",
        "colab_type": "text"
      },
      "cell_type": "markdown",
      "source": [
        "Run this to avoid this error: *ValueError: could not broadcast input array from shape.. *\n",
        "\n",
        "It converts all images in a directory to RGB (it removes the alpha channel) and moves everything to a new folder"
      ]
    },
    {
      "metadata": {
        "id": "xbZk_1JIY_mr",
        "colab_type": "code",
        "colab": {
          "autoexec": {
            "startup": false,
            "wait_interval": 0
          }
        }
      },
      "cell_type": "code",
      "source": [
        "from PIL import Image\n",
        "import os, sys\n",
        "\n",
        "path ='./data/portrait/'\n",
        "\n",
        "dirs = os.listdir( path )\n",
        "\n",
        "\n",
        "for item in dirs:\n",
        "    try:\n",
        "        if os.path.isfile(path+item):\n",
        "            im = Image.open(path+item)\n",
        "            longer_side = max(im.size)\n",
        "\n",
        "            horizontal_padding = (longer_side - im.size[0]) / 2\n",
        "            vertical_padding = (longer_side - im.size[1]) / 2\n",
        "            f, e = os.path.splitext(path+item)\n",
        "            imResize = im.crop(\n",
        "            (\n",
        "                -horizontal_padding,\n",
        "                -vertical_padding,\n",
        "                im.size[0] + horizontal_padding,\n",
        "                im.size[1] + vertical_padding\n",
        "            )\n",
        "            )\n",
        "            RGB = imResize.convert('RGB')\n",
        "            little = RGB.resize((32,32), Image.ANTIALIAS)\n",
        "\n",
        "            little.save(f + 'resize.jpg', 'JPEG', quality=30)\n",
        "            \n",
        "    except Exception as e:\n",
        "        print(e)"
      ],
      "execution_count": 0,
      "outputs": []
    },
    {
      "metadata": {
        "id": "9HSVWO--Wuw1",
        "colab_type": "code",
        "colab": {
          "autoexec": {
            "startup": false,
            "wait_interval": 0
          }
        }
      },
      "cell_type": "code",
      "source": [
        "import os\n",
        "os.listdir('./')"
      ],
      "execution_count": 0,
      "outputs": []
    },
    {
      "metadata": {
        "id": "_-NvQtkJxCeB",
        "colab_type": "text"
      },
      "cell_type": "markdown",
      "source": [
        "# Train - Test"
      ]
    },
    {
      "metadata": {
        "id": "rKZxrFrG2a6v",
        "colab_type": "code",
        "colab": {
          "autoexec": {
            "startup": false,
            "wait_interval": 0
          }
        }
      },
      "cell_type": "code",
      "source": [
        "cd DCGAN-Art-Tensorflow"
      ],
      "execution_count": 0,
      "outputs": []
    },
    {
      "metadata": {
        "id": "qPPAxSqXO5iV",
        "colab_type": "code",
        "colab": {
          "autoexec": {
            "startup": false,
            "wait_interval": 0
          }
        }
      },
      "cell_type": "code",
      "source": [
        "!python main.py --batch_size 64  --dataset portrait --crop --train --epoch 150 --input_fname_pattern \"*resize.jpg\""
      ],
      "execution_count": 0,
      "outputs": []
    },
    {
      "metadata": {
        "id": "8v4YAdGacx_G",
        "colab_type": "code",
        "colab": {
          "autoexec": {
            "startup": false,
            "wait_interval": 0
          }
        }
      },
      "cell_type": "code",
      "source": [
        ""
      ],
      "execution_count": 0,
      "outputs": []
    },
    {
      "metadata": {
        "id": "w4KRFkpS2GjH",
        "colab_type": "code",
        "colab": {
          "autoexec": {
            "startup": false,
            "wait_interval": 0
          }
        }
      },
      "cell_type": "code",
      "source": [
        "!python main.py --batch_size 64  --dataset portrait --crop --epoch 50 --input_fname_pattern \"*resize.jpg\""
      ],
      "execution_count": 0,
      "outputs": []
    },
    {
      "metadata": {
        "id": "V6Qi4eBP2wog",
        "colab_type": "code",
        "colab": {
          "autoexec": {
            "startup": false,
            "wait_interval": 0
          }
        }
      },
      "cell_type": "code",
      "source": [
        "from google.colab import files\n",
        "files.download( \"./samples/test_arange_11.png\" )\n",
        "print(\"aaaa right\")"
      ],
      "execution_count": 0,
      "outputs": []
    },
    {
      "metadata": {
        "id": "asotRId_2tRj",
        "colab_type": "code",
        "colab": {
          "autoexec": {
            "startup": false,
            "wait_interval": 0
          }
        }
      },
      "cell_type": "code",
      "source": [
        "from google.colab import files\n",
        "files.download( \"./samples/test_arange_99.png\" )\n",
        "print(\"aaaa right\")"
      ],
      "execution_count": 0,
      "outputs": []
    },
    {
      "metadata": {
        "id": "Qu0fuzQ4Sh9d",
        "colab_type": "text"
      },
      "cell_type": "markdown",
      "source": [
        "# Save files"
      ]
    },
    {
      "metadata": {
        "id": "x_0drhNwxAw8",
        "colab_type": "text"
      },
      "cell_type": "markdown",
      "source": [
        "save specific img"
      ]
    },
    {
      "metadata": {
        "id": "l-dL0keI9SFB",
        "colab_type": "code",
        "colab": {
          "autoexec": {
            "startup": false,
            "wait_interval": 0
          }
        }
      },
      "cell_type": "code",
      "source": [
        "from google.colab import files\n",
        "files.download( \"./samples/test_arange_18.png\" )\n",
        "print(\"aaaa right\")"
      ],
      "execution_count": 0,
      "outputs": []
    },
    {
      "metadata": {
        "id": "fjth_GeX5PiW",
        "colab_type": "text"
      },
      "cell_type": "markdown",
      "source": [
        "save checkpoint folder - to continue when the VM  changes"
      ]
    },
    {
      "metadata": {
        "id": "jzVFJsBp8DLK",
        "colab_type": "code",
        "colab": {
          "autoexec": {
            "startup": false,
            "wait_interval": 0
          }
        }
      },
      "cell_type": "code",
      "source": [
        "cd .."
      ],
      "execution_count": 0,
      "outputs": []
    },
    {
      "metadata": {
        "id": "VpSsIvK9xg95",
        "colab_type": "text"
      },
      "cell_type": "markdown",
      "source": [
        "# Save to Drive - Zip file\n"
      ]
    },
    {
      "metadata": {
        "id": "b5zglqmkSBoZ",
        "colab_type": "code",
        "colab": {
          "autoexec": {
            "startup": false,
            "wait_interval": 0
          }
        }
      },
      "cell_type": "code",
      "source": [
        "CPT_PATH = \"./checkpoint\""
      ],
      "execution_count": 0,
      "outputs": []
    },
    {
      "metadata": {
        "id": "sR-5MGDkd0D6",
        "colab_type": "text"
      },
      "cell_type": "markdown",
      "source": [
        "Same logic as before, this time it saves the .zip to a specific drive folder "
      ]
    },
    {
      "metadata": {
        "id": "xeMebbocTBh3",
        "colab_type": "code",
        "colab": {
          "autoexec": {
            "startup": false,
            "wait_interval": 0
          }
        }
      },
      "cell_type": "code",
      "source": [
        "drive_folder = \"116OGJqQpksx6AaRpcH5EUt2M99wJ9mfJ\" # change the link, or it will fill my drive"
      ],
      "execution_count": 0,
      "outputs": []
    },
    {
      "metadata": {
        "id": "hg2emDrpWeYT",
        "colab_type": "code",
        "colab": {
          "autoexec": {
            "startup": false,
            "wait_interval": 0
          }
        }
      },
      "cell_type": "code",
      "source": [
        "from pydrive.auth import GoogleAuth\n",
        "from pydrive.drive import GoogleDrive\n",
        "from google.colab import auth\n",
        "from oauth2client.client import GoogleCredentials\n",
        "\n",
        "# 1. Authenticate and create the PyDrive client.\n",
        "auth.authenticate_user()\n",
        "gauth = GoogleAuth()\n",
        "gauth.credentials = GoogleCredentials.get_application_default()\n",
        "drive = GoogleDrive(gauth)\n",
        "print(\"all right\")"
      ],
      "execution_count": 0,
      "outputs": []
    },
    {
      "metadata": {
        "id": "WXSbM8WlmqWd",
        "colab_type": "code",
        "colab": {
          "autoexec": {
            "startup": false,
            "wait_interval": 0
          }
        }
      },
      "cell_type": "code",
      "source": [
        "\"\"\"import zipfile\n",
        "import os\n",
        "\n",
        "d = CPT_PATH\n",
        "\n",
        "os.chdir(os.path.dirname(d))\n",
        "with zipfile.ZipFile(d + '.zip',\n",
        "                     \"w\",\n",
        "                     zipfile.ZIP_DEFLATED,\n",
        "                     allowZip64=True) as zf:\n",
        "    for root, _, filenames in os.walk(os.path.basename(d)):\n",
        "        for name in filenames:\n",
        "            name = os.path.join(root, name)\n",
        "            name = os.path.normpath(name)\n",
        "            zipFile = zf.write(name, name)\n",
        "            \n",
        "print(zipFile)\n",
        "\n",
        "# get the folder id where you want to save your file\n",
        "file = drive.CreateFile({'parents':[{u'id': folder_id}]})\n",
        "file.SetContentFile(zipFile)\n",
        "file.Upload() \n",
        "print(\"zip file saved on Drive\")\"\"\""
      ],
      "execution_count": 0,
      "outputs": []
    },
    {
      "metadata": {
        "id": "KaazvsPXSj6I",
        "colab_type": "code",
        "colab": {
          "autoexec": {
            "startup": false,
            "wait_interval": 0
          }
        },
        "cellView": "form"
      },
      "cell_type": "code",
      "source": [
        "#@title\n",
        "import shutil\n",
        "folder_id = drive_folder\n",
        "\n",
        "print(\"go go go!\")\n",
        "zip_name = CPT_PATH\n",
        "directory_name = '.'\n",
        "directory_name = CPT_PATH\n",
        "foo = shutil.make_archive(zip_name, 'zip', directory_name)\n",
        "\n",
        "# get the folder id where you want to save your file\n",
        "file = drive.CreateFile({'parents':[{u'id': folder_id}]})\n",
        "file.SetContentFile(foo)\n",
        "file.Upload() \n",
        "print(\"zip file saved on Drive\")"
      ],
      "execution_count": 0,
      "outputs": []
    },
    {
      "metadata": {
        "id": "U95uZH1n9coy",
        "colab_type": "text"
      },
      "cell_type": "markdown",
      "source": [
        ""
      ]
    }
  ]
}